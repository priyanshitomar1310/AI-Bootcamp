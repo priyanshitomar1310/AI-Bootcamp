{
  "nbformat": 4,
  "nbformat_minor": 0,
  "metadata": {
    "colab": {
      "provenance": []
    },
    "kernelspec": {
      "name": "python3",
      "display_name": "Python 3"
    },
    "language_info": {
      "name": "python"
    }
  },
  "cells": [
    {
      "cell_type": "code",
      "execution_count": 1,
      "metadata": {
        "colab": {
          "base_uri": "https://localhost:8080/"
        },
        "id": "jnSxxLA9dfbI",
        "outputId": "890a8756-c34c-4e0a-8802-034ebaa9e576"
      },
      "outputs": [
        {
          "output_type": "stream",
          "name": "stdout",
          "text": [
            "Simple Calculator\n",
            "Select operation:\n",
            "1. Add\n",
            "2. Subtract\n",
            "3. Multiply\n",
            "4. Divide\n",
            "Enter choice (1/2/3/4): 1\n",
            "Enter first number: 1\n",
            "Enter second number: 2\n",
            "Result: 3.0\n"
          ]
        }
      ],
      "source": [
        "def add(x, y):\n",
        "    return x + y\n",
        "\n",
        "def subtract(x, y):\n",
        "    return x - y\n",
        "\n",
        "def multiply(x, y):\n",
        "    return x * y\n",
        "\n",
        "def divide(x, y):\n",
        "    if y == 0:\n",
        "        return \"Error! Division by zero.\"\n",
        "    return x / y\n",
        "\n",
        "print(\"Simple Calculator\")\n",
        "print(\"Select operation:\")\n",
        "print(\"1. Add\")\n",
        "print(\"2. Subtract\")\n",
        "print(\"3. Multiply\")\n",
        "print(\"4. Divide\")\n",
        "\n",
        "choice = input(\"Enter choice (1/2/3/4): \")\n",
        "\n",
        "if choice in ['1', '2', '3', '4']:\n",
        "    try:\n",
        "        num1 = float(input(\"Enter first number: \"))\n",
        "        num2 = float(input(\"Enter second number: \"))\n",
        "\n",
        "        if choice == '1':\n",
        "            print(\"Result:\", add(num1, num2))\n",
        "        elif choice == '2':\n",
        "            print(\"Result:\", subtract(num1, num2))\n",
        "        elif choice == '3':\n",
        "            print(\"Result:\", multiply(num1, num2))\n",
        "        elif choice == '4':\n",
        "            print(\"Result:\", divide(num1, num2))\n",
        "    except ValueError:\n",
        "        print(\"Invalid input! Please enter numeric values.\")\n",
        "else:\n",
        "    print(\"Invalid choice! Please select from 1 to 4.\")\n"
      ]
    }
  ]
}