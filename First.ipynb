{
  "nbformat": 4,
  "nbformat_minor": 0,
  "metadata": {
    "colab": {
      "provenance": []
    },
    "kernelspec": {
      "name": "python3",
      "display_name": "Python 3"
    },
    "language_info": {
      "name": "python"
    }
  },
  "cells": [
    {
      "cell_type": "code",
      "source": [
        "print(\"Priyanshi Tomar this side \")\n",
        "print(\"Roll no 2401920140134\")\n",
        "print(\"This is going to be my very first python program\")"
      ],
      "metadata": {
        "colab": {
          "base_uri": "https://localhost:8080/"
        },
        "id": "uDo1IWtPePyb",
        "outputId": "0d6c7810-30ff-48e9-cc03-b7c3c7c3dbec"
      },
      "execution_count": 5,
      "outputs": [
        {
          "output_type": "stream",
          "name": "stdout",
          "text": [
            "Priyanshi Tomar this side \n",
            "Roll no 2401920140134\n",
            "This is going to be my very first python program\n"
          ]
        }
      ]
    }
  ]
}